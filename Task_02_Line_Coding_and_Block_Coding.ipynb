{
  "nbformat": 4,
  "nbformat_minor": 0,
  "metadata": {
    "colab": {
      "name": "Task#02 Line Coding and Block Coding.ipynb",
      "provenance": []
    },
    "kernelspec": {
      "name": "python3",
      "display_name": "Python 3"
    },
    "language_info": {
      "name": "python"
    }
  },
  "cells": [
    {
      "cell_type": "markdown",
      "metadata": {
        "id": "4sZnPi5ZBlyR"
      },
      "source": [
        "# **2017331088 Roman Raihan**"
      ]
    },
    {
      "cell_type": "markdown",
      "metadata": {
        "id": "CgV0bxtmBFQY"
      },
      "source": [
        "*importing necessary libraries*"
      ]
    },
    {
      "cell_type": "code",
      "metadata": {
        "id": "lS4hbR6aBOm7"
      },
      "source": [
        "import numpy as np\n",
        "import matplotlib.pyplot as plt\n",
        "import math"
      ],
      "execution_count": null,
      "outputs": []
    },
    {
      "cell_type": "markdown",
      "metadata": {
        "id": "lcDcQ0wjBsVu"
      },
      "source": [
        "# **Line Coding**"
      ]
    },
    {
      "cell_type": "markdown",
      "metadata": {
        "id": "THHy9NUJB0rW"
      },
      "source": [
        "###**Line Coding Encoding - Unipolar - Non Return to Zero(NRZ)**"
      ]
    },
    {
      "cell_type": "code",
      "metadata": {
        "colab": {
          "base_uri": "https://localhost:8080/",
          "height": 265
        },
        "id": "qokBdUqBCKIE",
        "outputId": "61ff035f-f684-409f-dd42-7ee32caef873"
      },
      "source": [
        "\"\"\"\n",
        "\n",
        "bits      =      Digital data elements(input bits row vector)\n",
        "Time      =      Time period for sending 1 data elements\n",
        "bit_rate  =      Bit rate(the number of data elements(bits) sent in 1s)\n",
        "Fs        =      Sampling Rate\n",
        "N         =      Bit Length of input bits\n",
        "T         =      Interval of bit time period\n",
        "x         =      Line coding row vector\n",
        "t         =      Time vector for N bits\n",
        "\"\"\"\n",
        "\n",
        "bits = np.array([1, 0, 1, 0, 1, 1, 0, 0, 1, 0, 0, 1, 1, 0, 1]) \n",
        "Time = 10e-6   \n",
        "bit_rate = 1/Time  \n",
        "Fs = 4*bit_rate    \n",
        "N = len(bits)   \n",
        "T = np.linspace(0,Time,100)\n",
        "\n",
        "x = np.array([])\n",
        "for i in range(N):\n",
        "  temp = bits[i]* np.ones(len(T))\n",
        "  x = np.append(x, temp)\n",
        "t = np.linspace(0,N*Time,len(x))\n",
        "\n",
        "plt.plot(t, x)\n",
        "plt.show()"
      ],
      "execution_count": null,
      "outputs": [
        {
          "output_type": "display_data",
          "data": {
            "image/png": "[encoded data removed]",
            "text/plain": [
              "<Figure size 432x288 with 1 Axes>"
            ]
          },
          "metadata": {
            "needs_background": "light"
          }
        }
      ]
    },
    {
      "cell_type": "markdown",
      "metadata": {
        "id": "u05nMd2YDCF4"
      },
      "source": [
        "###**Line Coding Decoding - Unipolar - Non Return to Zero(NRZ)**"
      ]
    },
    {
      "cell_type": "code",
      "metadata": {
        "colab": {
          "base_uri": "https://localhost:8080/"
        },
        "id": "6rSTXjniDDab",
        "outputId": "a9b84195-1e12-4133-e375-c118e0cf7203"
      },
      "source": [
        "'''\n",
        "x         =       Signal element(Line coding row vector)\n",
        "t         =       Time vector for N bits\n",
        "bit_rate  =       Bit rate(the number of data elements(bits) sent in 1s)\n",
        "result    =       Data element\n",
        "\n",
        "'''\n",
        "result = []\n",
        "counter = 0\n",
        "for i in range(len(t)):\n",
        "  if t[i]*bit_rate > counter:\n",
        "    counter = counter + 1\n",
        "    result.append(int(x[i]))\n",
        "\n",
        "print(result)"
      ],
      "execution_count": null,
      "outputs": [
        {
          "output_type": "stream",
          "name": "stdout",
          "text": [
            "[1, 0, 1, 0, 1, 1, 0, 0, 1, 0, 0, 1, 1, 0, 1]\n"
          ]
        }
      ]
    },
    {
      "cell_type": "markdown",
      "metadata": {
        "id": "pCYTUKsYDoBJ"
      },
      "source": [
        "#**Block Coding**\n"
      ]
    },
    {
      "cell_type": "markdown",
      "metadata": {
        "id": "LbANJhnoDsfr"
      },
      "source": [
        "####**Block coding $4B/5B$ with $NRZ-I$ line coding scheme**"
      ]
    },
    {
      "cell_type": "markdown",
      "metadata": {
        "id": "Cd7WLhv1D-ad"
      },
      "source": [
        "**Mapping Codes**"
      ]
    },
    {
      "cell_type": "code",
      "metadata": {
        "id": "8yxWgCCiD_u_"
      },
      "source": [
        "mB = 4\n",
        "nB = 5\n",
        "block_coding_mapping_codes = {\n",
        "# encoding map\n",
        "\"0000\": \"11110\",\n",
        "\"0001\": \"01001\",\n",
        "\"0010\": \"10100\",\n",
        "\"0011\": \"10101\",\n",
        "\"0100\": \"01010\",\n",
        "\"0101\": \"01011\",\n",
        "\"0110\": \"01110\",\n",
        "\"0111\": \"01111\",\n",
        "\"1000\": \"10010\",\n",
        "\"1001\": \"10011\",\n",
        "\"1010\": \"10110\",\n",
        "\"1011\": \"10111\",\n",
        "\"1100\": \"11010\",\n",
        "\"1101\": \"11011\",\n",
        "\"1110\": \"11100\",\n",
        "\"1111\": \"11101\",\n",
        "# decoding map\n",
        "\"11110\": \"0000\",\n",
        "\"01001\": \"0001\",\n",
        "\"10100\": \"0010\",\n",
        "\"10101\": \"0011\",\n",
        "\"01010\": \"0100\",\n",
        "\"01011\": \"0101\",\n",
        "\"01110\": \"0110\",\n",
        "\"01111\": \"0111\",\n",
        "\"10010\": \"1000\",\n",
        "\"10011\": \"1001\",\n",
        "\"10110\": \"1010\",\n",
        "\"10111\": \"1011\",\n",
        "\"11010\": \"1100\",\n",
        "\"11011\": \"1101\",\n",
        "\"11100\": \"1110\",\n",
        "\"11101\": \"1111\",\n",
        "\n",
        "}\n",
        "\n",
        "def get_Mapping_Codes(bits):\n",
        "  return block_coding_mapping_codes[\"\".join(map(str, bits))]\n",
        "  \n",
        "'''\n",
        "bits = sequence of bits to encoded using mB/nB\n",
        "'''\n",
        "def get_MB_NB_Encoding(bits, mB, nB):\n",
        "  # If the length of bits is not multiple of mB, appends extra 0's at the end of the bits(optional)\n",
        "  if len(bits) % mB != 0:\n",
        "    # Necessary bit count to make it multiple of mB\n",
        "    extra_len = (((len(bits)// mB) + 1) * mB) - len(bits)\n",
        "    extra = np.array(np.zeros(extra_len), dtype=int)\n",
        "    bits = np.append(bits, extra)\n",
        "  \n",
        "  encoded_bits_str = \"\"\n",
        "  for i in range(0, len(bits), mB):\n",
        "    encoded_bits_str += get_Mapping_Codes(bits[i:i+mB])\n",
        "  \n",
        "  # Convert the encoded bit string to list of bits\n",
        "  encoded_bits_list = list(encoded_bits_str)\n",
        "  encoded_bits_map = map(int, encoded_bits_list)\n",
        "  encoded_bits = np.array(list(encoded_bits_map))\n",
        "  return encoded_bits\n",
        "\n",
        "'''\n",
        "bits = sequence of bits to decoded using mB/nB\n",
        "'''\n",
        "def get_NB_MB_Decoding(bits, mB, nB):\n",
        "  if len(bits) % nB != 0:\n",
        "    print(\"Invalid length, Decoding Not possible!\")\n",
        "    return\n",
        "  decoded_bits_str = \"\"\n",
        "  for i in range(0, len(bits), nB):\n",
        "    decoded_bits_str += get_Mapping_Codes(bits[i:i+nB])\n",
        "  # Convert the decoded bit string to list of bits\n",
        "  decoded_bits_list = list(decoded_bits_str)\n",
        "  decoded_bits_map = map(int, decoded_bits_list)\n",
        "  decoded_bits = np.array(list(decoded_bits_map))\n",
        "  return decoded_bits\n"
      ],
      "execution_count": null,
      "outputs": []
    },
    {
      "cell_type": "markdown",
      "metadata": {
        "id": "nSDRhEA1EamD"
      },
      "source": [
        "**$4B/5B$ Encoding**"
      ]
    },
    {
      "cell_type": "code",
      "metadata": {
        "id": "PJbLOH4KEbcy"
      },
      "source": [
        "bits = np.array([1, 0, 1, 0, 1, 1, 0, 0, 1, 0, 0, 1, 1, 0, 1],dtype=int)\n",
        "bits = get_MB_NB_Encoding(bits, mB, nB)"
      ],
      "execution_count": null,
      "outputs": []
    },
    {
      "cell_type": "markdown",
      "metadata": {
        "id": "NZME6ceOEukQ"
      },
      "source": [
        "**$NRZ-I$ Line Coding Encoding**"
      ]
    },
    {
      "cell_type": "code",
      "metadata": {
        "colab": {
          "base_uri": "https://localhost:8080/",
          "height": 265
        },
        "id": "AYKDUDeSEvlD",
        "outputId": "e17f0de5-3695-464d-ea64-ba990af693cd"
      },
      "source": [
        "'''\n",
        "\n",
        "bits      -      Digital data elements(input bits row vector)\n",
        "Time      -      Time period for sending 1 data elements\n",
        "bit_rate  -      Bit rate(the number of data elements(bits) sent in 1s)\n",
        "Fs        -      Sampling Rate\n",
        "N         -      Bit Length of input bits\n",
        "T         -      Interval of bit time period\n",
        "x         -      Line coding row vector\n",
        "t         -      Time vector for N bits\n",
        "'''\n",
        "\n",
        "\n",
        "Time = 10e-6   \n",
        "bit_rate = 1/Time  \n",
        "Fs = 4*bit_rate    \n",
        "N = len(bits)   \n",
        "T = np.linspace(0,Time, mB * 100)\n",
        "\n",
        "x = np.array([])\n",
        "last_bit = 1\n",
        "for i in range(N):\n",
        "  if bits[i] == 1:\n",
        "    temp = (-1) * last_bit * np.ones(len(T))\n",
        "    last_bit = -last_bit\n",
        "  else:\n",
        "    temp = last_bit * np.ones(len(T))\n",
        "  x = np.append(x, temp)\n",
        "t = np.linspace(0,N*Time,len(x))\n",
        "\n",
        "plt.plot(t, x)\n",
        "plt.show()"
      ],
      "execution_count": null,
      "outputs": [
        {
          "output_type": "display_data",
          "data": {
            "image/png": "[encoded data removed]",
            "text/plain": [
              "<Figure size 432x288 with 1 Axes>"
            ]
          },
          "metadata": {
            "needs_background": "light"
          }
        }
      ]
    },
    {
      "cell_type": "markdown",
      "metadata": {
        "id": "RwG2UbGkE3XS"
      },
      "source": [
        "**$NRZ-I$ Line Coding Decoding**"
      ]
    },
    {
      "cell_type": "code",
      "metadata": {
        "colab": {
          "base_uri": "https://localhost:8080/"
        },
        "id": "YaXPfG9CE4a5",
        "outputId": "d119c63b-a5eb-4dc6-8d3a-17837030aefa"
      },
      "source": [
        "'''\n",
        "x         -       Signal element(Line coding row vector)\n",
        "t         -       Time vector for N bits\n",
        "bit_rate  -       Bit rate(the number of data elements(bits) sent in 1s)\n",
        "result    -       Data element\n",
        "\n",
        "'''\n",
        "result = []\n",
        "counter = 0\n",
        "last_bit = 1\n",
        "for i in range(len(t)):\n",
        "  if t[i]*bit_rate > counter:\n",
        "    counter = counter + 1\n",
        "    if x[i] != last_bit:\n",
        "      result.append(1)\n",
        "      last_bit=-last_bit\n",
        "    else:\n",
        "      result.append(0)\n",
        "\n",
        "print(result)"
      ],
      "execution_count": null,
      "outputs": [
        {
          "output_type": "stream",
          "name": "stdout",
          "text": [
            "[1, 0, 1, 1, 0, 1, 1, 0, 1, 0, 1, 0, 0, 1, 1, 1, 0, 1, 1, 0]\n"
          ]
        }
      ]
    },
    {
      "cell_type": "markdown",
      "metadata": {
        "id": "6E5NbArtFAPn"
      },
      "source": [
        "**$4B/5B$ Decoding**"
      ]
    },
    {
      "cell_type": "code",
      "metadata": {
        "colab": {
          "base_uri": "https://localhost:8080/"
        },
        "id": "GERGDB30FBCH",
        "outputId": "5bbccb9d-a495-4f3d-b5e0-4432801cad54"
      },
      "source": [
        "decoded_result = get_NB_MB_Decoding(result, mB, nB)\n",
        "print(decoded_result)"
      ],
      "execution_count": null,
      "outputs": [
        {
          "output_type": "stream",
          "name": "stdout",
          "text": [
            "[1 0 1 0 1 1 0 0 1 0 0 1 1 0 1 0]\n"
          ]
        }
      ]
    }
  ]
}