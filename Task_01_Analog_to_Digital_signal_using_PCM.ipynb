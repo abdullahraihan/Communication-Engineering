{
  "nbformat": 4,
  "nbformat_minor": 0,
  "metadata": {
    "colab": {
      "name": "Task#01 Analog to Digital signal using PCM.ipynb",
      "provenance": []
    },
    "kernelspec": {
      "name": "python3",
      "display_name": "Python 3"
    },
    "language_info": {
      "name": "python"
    }
  },
  "cells": [
    {
      "cell_type": "markdown",
      "metadata": {
        "id": "hTlVbAbvz2N0"
      },
      "source": [
        "# **2017331088_Roman Raihan**"
      ]
    },
    {
      "cell_type": "markdown",
      "metadata": {
        "id": "gDrNTNaZygXO"
      },
      "source": [
        "**A program to simulate the analog-digital signal using Pulse Code Modulation(PCM).**"
      ]
    },
    {
      "cell_type": "markdown",
      "metadata": {
        "id": "thkc9MsYymdW"
      },
      "source": [
        "**Pulse-code modulation (PCM)** is a method used to digitally represent sampled analog signals. A PCM encoder has three processes:\n",
        "\n",
        "\n",
        "1. Sampling\n",
        "2. Quantization\n",
        "3. Encoding\n",
        "\n"
      ]
    },
    {
      "cell_type": "markdown",
      "metadata": {
        "id": "9H8R8RCF1U07"
      },
      "source": [
        "*Importing necessary libraries*"
      ]
    },
    {
      "cell_type": "code",
      "metadata": {
        "id": "QiKK-Ouuzvjj"
      },
      "source": [
        "import numpy as np\n",
        "import matplotlib.pyplot as plt\n",
        "import math"
      ],
      "execution_count": null,
      "outputs": []
    },
    {
      "cell_type": "markdown",
      "metadata": {
        "id": "Hddr-HMo0nx0"
      },
      "source": [
        "**The general equation of Analog signal is:**\n",
        "\n",
        "$$ v(t)=Acos(2πft) $$"
      ]
    },
    {
      "cell_type": "markdown",
      "metadata": {
        "id": "B4SZvDWJ1lU6"
      },
      "source": [
        "*Creating the signal with their basic properties*\n",
        "\n",
        "Here,\n",
        "\n",
        "A = Amplitude of the signal\n",
        "\n",
        "f = Frequency of the signal\n",
        "\n",
        "t = Time variable of the signal\n",
        "\n",
        "T = Time period of the signal\n",
        "\n"
      ]
    },
    {
      "cell_type": "code",
      "metadata": {
        "colab": {
          "base_uri": "https://localhost:8080/",
          "height": 265
        },
        "id": "Fd_82SS-02Wk",
        "outputId": "118a4fed-9c79-4f41-db70-c3d15dd78bec"
      },
      "source": [
        "\n",
        "A = 10                           \n",
        "f = 1.5\n",
        "T = 1 / f\n",
        "t = np.linspace(0, 2.0, 500)\n",
        "x = A * np.cos(2.0 * np.pi * f * t)\n",
        "plt.plot(t, x)\n",
        "plt.show()"
      ],
      "execution_count": null,
      "outputs": [
        {
          "output_type": "display_data",
          "data": {
            "image/png": "[encoded data removed]",
            "text/plain": [
              "<Figure size 432x288 with 1 Axes>"
            ]
          },
          "metadata": {
            "needs_background": "light"
          }
        }
      ]
    },
    {
      "cell_type": "markdown",
      "metadata": {
        "id": "i1rzb9En3jdY"
      },
      "source": [
        "# Sampling \n",
        "Here, \n",
        "\n",
        "n = number_of_sample_per_interval\n",
        "\n",
        "fs = sampling rate\n",
        "\n",
        "ts = sampling interval\n"
      ]
    },
    {
      "cell_type": "code",
      "metadata": {
        "colab": {
          "base_uri": "https://localhost:8080/",
          "height": 320
        },
        "id": "6XzmP-JZ4Cn0",
        "outputId": "fa31f00d-138e-4103-85e4-99ddc8ebf53f"
      },
      "source": [
        "n = 20\n",
        "fs = n * f\n",
        "ts=np.arange(0, 2, 1 / fs)\n",
        "xs=A*np.cos(2*np.pi*f*ts) # xs Sampled signal \n",
        "plt.stem(ts, xs)\n",
        "plt.show()"
      ],
      "execution_count": null,
      "outputs": [
        {
          "output_type": "stream",
          "name": "stderr",
          "text": [
            "/usr/local/lib/python3.7/dist-packages/ipykernel_launcher.py:5: UserWarning: In Matplotlib 3.3 individual lines on a stem plot will be added as a LineCollection instead of individual lines. This significantly improves the performance of a stem plot. To remove this warning and switch to the new behaviour, set the \"use_line_collection\" keyword argument to True.\n",
            "  \"\"\"\n"
          ]
        },
        {
          "output_type": "display_data",
          "data": {
            "image/png": "[encoded data removed]",
            "text/plain": [
              "<Figure size 432x288 with 1 Axes>"
            ]
          },
          "metadata": {
            "needs_background": "light"
          }
        }
      ]
    },
    {
      "cell_type": "markdown",
      "metadata": {
        "id": "UHauxMJU5PV5"
      },
      "source": [
        "# Quantization\n",
        "b_bit = b-bit quantizer, number of bits required to encode each quantization level. \n",
        "\n",
        "L = uniformly spaced quantization levels\n",
        "partition = level are between vmin and vmax with difference of delta\n",
        "\n",
        "codebook = decrease the partition by half of delta\n",
        "\n",
        "xq = quantized signal\n",
        "\n",
        "encode = assigned codec"
      ]
    },
    {
      "cell_type": "code",
      "metadata": {
        "colab": {
          "base_uri": "https://localhost:8080/",
          "height": 302
        },
        "id": "CSeRwPm-5gHb",
        "outputId": "010a09a1-3c81-4f1c-bcb7-bc1a6df90957"
      },
      "source": [
        "b_bit = 3\n",
        "L = 2 ** b_bit\n",
        "vmax=A;\n",
        "vmin=-vmax;\n",
        "delta=(vmax-vmin)/L;\n",
        "partition = np.arange(vmin, vmax, delta)\n",
        "codebook= np.arange(vmin-(delta/2),vmax+(delta/2), delta) \n",
        "\n",
        "xq = np.copy(xs)\n",
        "encode = np.copy(xs)\n",
        "\n",
        "for i in range(len(partition)):\n",
        "  left = codebook[i]\n",
        "  right = codebook[i + 1]\n",
        "  for j in range(len(xs)):\n",
        "    # left <= xs[i] < right\n",
        "    if(i != len(partition) - 1 and left <= xs[j] and xs[j] < right):\n",
        "      xq[j] = partition[i]\n",
        "      encode[j] = i\n",
        "    # left <= xs[i], only for last portion\n",
        "    if(i == len(partition) - 1 and left <= xs[j]):\n",
        "      xq[j] = partition[i]\n",
        "      encode[j] = i\n",
        "\n",
        "for i in range(len(xq)):\n",
        "    xq[i] = xq[i] + (delta / 2) \n",
        "\n",
        "plt.stem(ts, xq)\n",
        "plt.show()"
      ],
      "execution_count": null,
      "outputs": [
        {
          "output_type": "stream",
          "name": "stderr",
          "text": [
            "/usr/local/lib/python3.7/dist-packages/ipykernel_launcher.py:28: UserWarning: In Matplotlib 3.3 individual lines on a stem plot will be added as a LineCollection instead of individual lines. This significantly improves the performance of a stem plot. To remove this warning and switch to the new behaviour, set the \"use_line_collection\" keyword argument to True.\n"
          ]
        },
        {
          "output_type": "display_data",
          "data": {
            "image/png": "[encoded data removed]",
            "text/plain": [
              "<Figure size 432x288 with 1 Axes>"
            ]
          },
          "metadata": {
            "needs_background": "light"
          }
        }
      ]
    },
    {
      "cell_type": "markdown",
      "metadata": {
        "id": "WRnNJ61n5vND"
      },
      "source": [
        "# Encoding\n"
      ]
    },
    {
      "cell_type": "code",
      "metadata": {
        "colab": {
          "base_uri": "https://localhost:8080/",
          "height": 340
        },
        "id": "F0EJfRXe53JC",
        "outputId": "97401d8e-b92c-4bc4-fc0c-a25ffc5e6cd6"
      },
      "source": [
        "def decimalToBinary(val, bit):\n",
        "    binary = \"{0:b}\".format(int(val))\n",
        "    if(len(binary) > bit):\n",
        "      return binary\n",
        "    extra_zero = bit - len(binary)\n",
        "    return extra_zero * \"0\" + binary\n",
        "\n",
        "binary_codec = []\n",
        "for i in range(len(encode)):\n",
        "  binary = decimalToBinary(encode[i], b_bit)\n",
        "  for j in range(len(binary)):\n",
        "    binary_codec.append(binary[j])\n",
        "\n",
        "pos = np.arange(len(binary_codec))\n",
        "plt.figure(figsize=(20, 5))\n",
        "plt.ylim(-1, 2)\n",
        "plt.step(pos, binary_codec)\n",
        "plt.show()"
      ],
      "execution_count": null,
      "outputs": [
        {
          "output_type": "display_data",
          "data": {
            "image/png": "[encoded data removed]",
            "text/plain": [
              "<Figure size 1440x360 with 1 Axes>"
            ]
          },
          "metadata": {
            "needs_background": "light"
          }
        }
      ]
    }
  ]
}